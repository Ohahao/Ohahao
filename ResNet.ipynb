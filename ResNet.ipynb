{
  "nbformat": 4,
  "nbformat_minor": 0,
  "metadata": {
    "colab": {
      "provenance": [],
      "authorship_tag": "ABX9TyOsPQE7H6JCiFjtKdRZcVr/",
      "include_colab_link": true
    },
    "kernelspec": {
      "name": "python3",
      "display_name": "Python 3"
    },
    "language_info": {
      "name": "python"
    }
  },
  "cells": [
    {
      "cell_type": "markdown",
      "metadata": {
        "id": "view-in-github",
        "colab_type": "text"
      },
      "source": [
        "<a href=\"https://colab.research.google.com/github/Ohahao/Ohahao/blob/main/ResNet.ipynb\" target=\"_parent\"><img src=\"https://colab.research.google.com/assets/colab-badge.svg\" alt=\"Open In Colab\"/></a>"
      ]
    },
    {
      "cell_type": "markdown",
      "source": [
        "# 1. Dataset 불러오기\n",
        "ImageNet dataset을 사용한다."
      ],
      "metadata": {
        "id": "YSfbOUeQqLb4"
      }
    },
    {
      "cell_type": "code",
      "execution_count": 3,
      "metadata": {
        "id": "k2Bd_KpFqCWa"
      },
      "outputs": [],
      "source": [
        "import torch\n",
        "import torch.nn as nn"
      ]
    },
    {
      "cell_type": "code",
      "source": [
        "#image display를 위한 라이브러리 불러오기\n",
        "from torchvision import utils\n",
        "import matplotlib.pyplot as plt\n",
        "import torchvision.transforms as transforms"
      ],
      "metadata": {
        "id": "WT-wnhbmu-yZ"
      },
      "execution_count": null,
      "outputs": []
    },
    {
      "cell_type": "code",
      "source": [
        "#GPU 장치 사용 설정을 한다.\n",
        "use_cuda = True\n",
        "device = torch.device(\"cuda\" if use_cuda else \"cpu\")"
      ],
      "metadata": {
        "id": "SoG2UrBbsmqS"
      },
      "execution_count": 4,
      "outputs": []
    },
    {
      "cell_type": "markdown",
      "source": [
        "**ImageNet에 정의된 class 정보를 불러온다.**"
      ],
      "metadata": {
        "id": "IA-8e7E0s3jo"
      }
    },
    {
      "cell_type": "code",
      "source": [
        "from urllib.request import urlretrieve\n",
        "import json\n",
        "\n",
        "#ImageNet에 정의된 1,000개의 class 정보를 가져온다.\n",
        "imagenet_json, _ = urlretrieve('http://www.anishathalye.com/media/2017/07/25/imagenet.json')\n",
        "with open(imagenet_json) as f:\n",
        "    imagenet_labels = json.load(f)"
      ],
      "metadata": {
        "id": "3vRqDeTAs293"
      },
      "execution_count": 5,
      "outputs": []
    },
    {
      "cell_type": "code",
      "source": [
        "#class 정보 확인 - index 14에 해당하는 클래스 출력\n",
        "print(imagenet_labels[14])"
      ],
      "metadata": {
        "colab": {
          "base_uri": "https://localhost:8080/"
        },
        "id": "2jT6nxS1uA0q",
        "outputId": "1b6c4974-1e18-4bcc-edd9-5a1c99e002a4"
      },
      "execution_count": 6,
      "outputs": [
        {
          "output_type": "stream",
          "name": "stdout",
          "text": [
            "indigo bunting, indigo finch, indigo bird, Passerina cyanea\n"
          ]
        }
      ]
    },
    {
      "cell_type": "markdown",
      "source": [
        "**Image preprocess(이미지 전처리) 함수 정의 및 이미지 출력**\n",
        "\n",
        "\n",
        "\n"
      ],
      "metadata": {
        "id": "0QRjas1yuZfr"
      }
    },
    {
      "cell_type": "markdown",
      "source": [
        "1. 이미지 가져오기\n",
        "- 특정 URL에서 이미지를 가져온다.\n"
      ],
      "metadata": {
        "id": "RfDsNIbjvnO3"
      }
    },
    {
      "cell_type": "code",
      "source": [],
      "metadata": {
        "id": "wiuG5vGZuY5f"
      },
      "execution_count": null,
      "outputs": []
    }
  ]
}